{
 "cells": [
  {
   "cell_type": "markdown",
   "metadata": {},
   "source": [
    "# core\n",
    "\n",
    "> Generate a definition card for a youtube video"
   ]
  },
  {
   "cell_type": "code",
   "execution_count": 1,
   "metadata": {},
   "outputs": [],
   "source": [
    "#| default_exp core"
   ]
  },
  {
   "cell_type": "code",
   "execution_count": 3,
   "metadata": {},
   "outputs": [],
   "source": [
    "#| hide\n",
    "from nbdev.showdoc import *"
   ]
  },
  {
   "cell_type": "code",
   "execution_count": 30,
   "metadata": {},
   "outputs": [],
   "source": [
    "#| export\n",
    "\n",
    "import re\n",
    "from youtube_transcript_api import YouTubeTranscriptApi\n",
    "from fastcore.xtras import store_attr, basic_repr\n",
    "from fastcore.script import *\n",
    "from claudette import *\n",
    "import os\n",
    "from bs4 import BeautifulSoup\n",
    "from bs4.formatter import HTMLFormatter\n",
    "from fastcore.script import *\n"
   ]
  },
  {
   "cell_type": "code",
   "execution_count": 5,
   "metadata": {},
   "outputs": [],
   "source": [
    "#| export\n",
    "\n",
    "def extract_video_id(url_or_id):\n",
    "    if len(url_or_id) == 11: return url_or_id\n",
    "    \n",
    "    patterns = [\n",
    "        r'(?:youtube\\.com\\/watch\\?v=|youtu\\.be\\/|youtube\\.com\\/embed\\/|youtube\\.com\\/v\\/|youtube\\.com\\/watch\\?.*v=)([^&\\n?#]+)',\n",
    "        r'youtube\\.com\\/shorts\\/([^&\\n?#]+)'\n",
    "    ]\n",
    "    \n",
    "    for pattern in patterns:\n",
    "        match = re.search(pattern, url_or_id)\n",
    "        if match: return match.group(1)\n",
    "    \n",
    "    return url_or_id\n",
    "\n",
    "def get_transcript(url_or_id, languages=['en']):\n",
    "    video_id = extract_video_id(url_or_id)\n",
    "    transcript_list = YouTubeTranscriptApi.get_transcript(video_id, languages=languages)\n",
    "    return ' '.join(item['text'] for item in transcript_list)\n"
   ]
  },
  {
   "cell_type": "code",
   "execution_count": 6,
   "metadata": {},
   "outputs": [],
   "source": [
    "# txt_1 = get_transcript('https://youtu.be/zC44sB9EWcw?si=DqZBwKwdAU_j9CB3')\n",
    "# txt_1\n"
   ]
  },
  {
   "cell_type": "code",
   "execution_count": 7,
   "metadata": {},
   "outputs": [
    {
     "data": {
      "text/plain": [
       "'claude-3-7-sonnet-20250219'"
      ]
     },
     "execution_count": 7,
     "metadata": {},
     "output_type": "execute_result"
    }
   ],
   "source": [
    "#| export\n",
    "\n",
    "os.environ['ANTHROPIC_LOG'] = 'debug'\n",
    "model = models[1]; model"
   ]
  },
  {
   "cell_type": "code",
   "execution_count": 8,
   "metadata": {},
   "outputs": [],
   "source": [
    "#| export\n",
    "\n",
    "class Definition:\n",
    "    \"Information about a president of the United States\"\n",
    "    def __init__(self, \n",
    "                guest_name:str, # The full name of the guest     \n",
    "                guest_position:str, # The position of the guest\n",
    "                definition:str, # The definition of what an AI agent is according to the guest\n",
    "        ):\n",
    "        store_attr()\n",
    "\n",
    "    __repr__ = basic_repr('guest_name, guest_position, definition')"
   ]
  },
  {
   "cell_type": "code",
   "execution_count": 9,
   "metadata": {},
   "outputs": [],
   "source": [
    "#| export\n",
    "\n",
    "def get_definition(txt):\n",
    "    sp=\"\"\"You will receive a podcast transcript about AI agents. Summarize the definition according to the guest.\n",
    "    Keep it short, 2 or 3 sentences max.\n",
    "    <example>\n",
    "    A piece of software you can delegate tasks to, empowering and augmenting human agency rather than acting as a separate entity. These agents use LLMs and APIs to act in the world based on requests and can be easily replicated. They are fundamentally tools extending human capabilities under human direction.\n",
    "    </example>\n",
    "    \"\"\"\n",
    "    cli = Client(model)\n",
    "    pr = f\"{sp}<transcript>{txt}</transcript>\"\n",
    "    r = cli.structured(pr, Definition)\n",
    "    return r[0]"
   ]
  },
  {
   "cell_type": "code",
   "execution_count": 10,
   "metadata": {},
   "outputs": [],
   "source": [
    "#| export\n",
    "\n",
    "def parse_markdown_links(text):\n",
    "    \"\"\"Convert markdown-style links [text](url) to HTML <a> tags\"\"\"\n",
    "    import re\n",
    "    pattern = r'\\[(.*?)\\]\\((.*?)\\)'\n",
    "    \n",
    "    def replace_func(match):\n",
    "        text, url = match.groups()\n",
    "        return f'<a href=\"{url}\" target=\"_blank\">{text}</a>'\n",
    "    \n",
    "    return re.sub(pattern, replace_func, text)\n",
    "\n",
    "def generate_definition_card(youtube_link, guest_name='', guest_position=''):\n",
    "    txt = get_transcript(youtube_link)\n",
    "    d = get_definition(txt)\n",
    "    # if name and position are not provided, use the extracted ones\n",
    "    if guest_name == '': guest_name = d.guest_name\n",
    "    if guest_position == '': guest_position = d.guest_position\n",
    "    \n",
    "    # Parse markdown-style links in guest name and position\n",
    "    html_guest_name = parse_markdown_links(guest_name)\n",
    "    html_guest_position = parse_markdown_links(guest_position)\n",
    "    \n",
    "    card_html = f'''\n",
    "<div class=\"definition-card\">\n",
    "    <div class=\"meta\">\n",
    "        <div>\n",
    "            <h2>{html_guest_name}</h2>\n",
    "            <span class=\"role\">{html_guest_position}</span>\n",
    "        </div>\n",
    "        <a href=\"{youtube_link}\" class=\"watch-link\" target=\"_blank\">\n",
    "            <span>Watch on</span>\n",
    "            <svg class=\"youtube-icon\" xmlns=\"http://www.w3.org/2000/svg\" viewBox=\"0 0 24 24\" fill=\"currentColor\">\n",
    "                <path d=\"M23.498 6.186a3.016 3.016 0 0 0-2.122-2.136C19.505 3.545 12 3.545 12 3.545s-7.505 0-9.377.505A3.017 3.017 0 0 0 .502 6.186C0 8.07 0 12 0 12s0 3.93.502 5.814a3.016 3.016 0 0 0 2.122 2.136c1.871.505 9.376.505 9.376.505s7.505 0 9.377-.505a3.015 3.015 0 0 0 2.122-2.136C24 15.93 24 12 24 12s0-3.93-.502-5.814zM9.545 15.568V8.432L15.818 12l-6.273 3.568z\"/>\n",
    "            </svg>\n",
    "        </a>\n",
    "    </div>\n",
    "    <p>{d.definition}</p>\n",
    "</div>\n",
    "'''\n",
    "    return card_html.strip()\n"
   ]
  },
  {
   "cell_type": "code",
   "execution_count": 11,
   "metadata": {},
   "outputs": [],
   "source": [
    "# card = generate_definition_card('https://www.youtube.com/watch?v=kTmUW86-HSE&t=913s')"
   ]
  },
  {
   "cell_type": "code",
   "execution_count": 12,
   "metadata": {},
   "outputs": [],
   "source": [
    "#| export\n",
    "\n",
    "def insert_card_into_html(card_html, html_file_path='what-is-an-ai-agent.html'):\n",
    "    \"\"\"\n",
    "    Insert a definition card into the definitions section of the HTML file.\n",
    "    \n",
    "    Args:\n",
    "        card_html (str): The HTML for the card to insert\n",
    "        html_file_path (str): Path to the HTML file\n",
    "        \n",
    "    Returns:\n",
    "        bool: True if successful, False otherwise\n",
    "    \"\"\"\n",
    "    try:\n",
    "        # Read the existing HTML file\n",
    "        with open(html_file_path, 'r', encoding='utf-8') as f:\n",
    "            content = f.read()\n",
    "        \n",
    "        # Find the definitions section\n",
    "        definitions_marker = '<div class=\"definitions\">'\n",
    "        if definitions_marker not in content:\n",
    "            print(f\"Error: Could not find '{definitions_marker}' in the HTML file.\")\n",
    "            return False\n",
    "        \n",
    "        # Insert the new card after the opening div\n",
    "        insert_position = content.find(definitions_marker) + len(definitions_marker)\n",
    "        \n",
    "        # Add some indentation and newlines for clean formatting\n",
    "        formatted_card = \"\\n\" + card_html\n",
    "        # Insert the card\n",
    "        new_content = content[:insert_position] + formatted_card + content[insert_position:]\n",
    "        \n",
    "        # Write the updated content back to the file\n",
    "        with open(html_file_path, 'w', encoding='utf-8') as f:\n",
    "            f.write(new_content)\n",
    "        \n",
    "        print(f\"Successfully inserted card into {html_file_path}\")\n",
    "        return True\n",
    "    \n",
    "    except Exception as e:\n",
    "        print(f\"Error inserting card: {str(e)}\")\n",
    "        return False"
   ]
  },
  {
   "cell_type": "code",
   "execution_count": 13,
   "metadata": {},
   "outputs": [],
   "source": [
    "# insert_card_into_html(card)"
   ]
  },
  {
   "cell_type": "code",
   "execution_count": 14,
   "metadata": {},
   "outputs": [],
   "source": [
    "#| export\n",
    "def add_new_definition(youtube_link, guest_name, guest_position, html_file_path='what-is-an-ai-agent.html'):\n",
    "    card = generate_definition_card(youtube_link, guest_name, guest_position)\n",
    "    insert_card_into_html(card, html_file_path)\n"
   ]
  },
  {
   "cell_type": "code",
   "execution_count": 15,
   "metadata": {},
   "outputs": [
    {
     "name": "stdout",
     "output_type": "stream",
     "text": [
      "Successfully inserted card into ../what-is-an-ai-agent.html\n"
     ]
    }
   ],
   "source": [
    "add_new_definition('https://youtu.be/-aBD8i2_mGM?si=5HxahyxtEM_Fl7K1', 'Thorsten Ball', 'Softwate Engineer @ Sourcegraph of Aomni', html_file_path='../what-is-an-ai-agent.html')"
   ]
  },
  {
   "cell_type": "code",
   "execution_count": 17,
   "metadata": {},
   "outputs": [],
   "source": [
    "#| export\n",
    "def extract_definitions(html_file='what-is-an-ai-agent.html'):\n",
    "    \"\"\"Extract all definition texts from existing cards\"\"\"\n",
    "    soup = BeautifulSoup(open(html_file).read(), 'html.parser')\n",
    "    cards = soup.select('.definition-card')\n",
    "    \n",
    "    return [{\n",
    "        'name': card.select_one('h2').text.strip(),\n",
    "        'role': card.select_one('.role').text.strip(),\n",
    "        'definition': card.select_one('p').text.strip()\n",
    "    } for card in cards if not (card.select_one('h2') and 'Latest Consensus' in card.select_one('h2').text)]\n"
   ]
  },
  {
   "cell_type": "code",
   "execution_count": 18,
   "metadata": {},
   "outputs": [],
   "source": [
    "# defs = extract_definitions('../what-is-an-ai-agent.html')\n",
    "# defs"
   ]
  },
  {
   "cell_type": "code",
   "execution_count": 19,
   "metadata": {},
   "outputs": [],
   "source": [
    "#| export \n",
    "def get_consensus(definitions):\n",
    "    sp=\"\"\"You will receive a list of definitions of AI agents. Summarize the consensus according to the definitions.\n",
    "    Keep it short, 2 or 3 sentences max.\n",
    "    <example>\n",
    "    A piece of software you can delegate tasks to, empowering and augmenting human agency rather than acting as a separate entity. These agents use LLMs and APIs to act in the world based on requests and can be easily replicated. They are fundamentally tools extending human capabilities under human direction.\n",
    "    </example>\n",
    "    \"\"\"\n",
    "    c = Chat(model)\n",
    "    # cli = Client(model)\n",
    "    pr = f\"{sp}<definitions>{definitions}</definitions>\"\n",
    "    r = c(pr)\n",
    "    return r"
   ]
  },
  {
   "cell_type": "code",
   "execution_count": 20,
   "metadata": {},
   "outputs": [],
   "source": [
    "# r = get_consensus(defs)\n",
    "# r"
   ]
  },
  {
   "cell_type": "code",
   "execution_count": 28,
   "metadata": {},
   "outputs": [],
   "source": [
    "#| export\n",
    "def create_consensus_html(consensus_text):\n",
    "    \"\"\"Create HTML for consensus card\"\"\"\n",
    "    return f'''\n",
    "<div class=\"definition-card consensus-card\">\n",
    "    <div class=\"meta\">\n",
    "        <div>\n",
    "            <h2>Latest Consensus</h2>\n",
    "            <span class=\"role\">Synthesized from all experts</span>\n",
    "        </div>\n",
    "    </div>\n",
    "    <p>{consensus_text}</p>\n",
    "</div>'''.strip()\n",
    "\n",
    "def insert_consensus(html_file='what-is-an-ai-agent.html'):\n",
    "    \"\"\"Insert consensus card at top of definitions section\"\"\"\n",
    "    # Get content and definitions\n",
    "    content = open(html_file).read()\n",
    "    soup = BeautifulSoup(content, 'html.parser')\n",
    "    \n",
    "    # Get definitions and generate consensus\n",
    "    definitions = extract_definitions(html_file)\n",
    "    consensus = get_consensus(definitions)\n",
    "    card_html = create_consensus_html(contents(consensus))\n",
    "    \n",
    "    # Remove existing consensus card if present\n",
    "    existing_consensus = soup.select_one('.consensus-card')\n",
    "    if existing_consensus:\n",
    "        existing_consensus.decompose()\n",
    "    \n",
    "    # Get definitions container\n",
    "    definitions_div = soup.select_one('.definitions')\n",
    "    \n",
    "    # Create new consensus card element\n",
    "    new_card = BeautifulSoup(card_html, 'html.parser')\n",
    "    \n",
    "    # Insert at the beginning of definitions div\n",
    "    definitions_div.insert(0, new_card)\n",
    "    \n",
    "    # Format the HTML with proper indentation\n",
    "    formatter = HTMLFormatter(indent=4)\n",
    "    pretty_html = soup.prettify(formatter=formatter)\n",
    "    \n",
    "    # Save file\n",
    "    with open(html_file, 'w') as f:\n",
    "        f.write(pretty_html)\n",
    "    \n",
    "    return consensus"
   ]
  },
  {
   "cell_type": "markdown",
   "metadata": {},
   "source": []
  },
  {
   "cell_type": "code",
   "execution_count": null,
   "metadata": {},
   "outputs": [
    {
     "data": {
      "text/markdown": [
       "AI agents are software systems that handle complex, long-tail use cases by adapting to obstacles through non-deterministic interactions, moving beyond traditional interfaces to more natural ones like chat or voice. They represent a new paradigm of software that empowers users by delegating tasks through multiple prompts and models working together, ultimately extending human capabilities while remaining under human direction.\n",
       "\n",
       "<details>\n",
       "\n",
       "- id: `msg_01Nug2UML4TAZSAZ1Qbp6a7z`\n",
       "- content: `[{'citations': None, 'text': 'AI agents are software systems that handle complex, long-tail use cases by adapting to obstacles through non-deterministic interactions, moving beyond traditional interfaces to more natural ones like chat or voice. They represent a new paradigm of software that empowers users by delegating tasks through multiple prompts and models working together, ultimately extending human capabilities while remaining under human direction.', 'type': 'text'}]`\n",
       "- model: `claude-3-7-sonnet-20250219`\n",
       "- role: `assistant`\n",
       "- stop_reason: `end_turn`\n",
       "- stop_sequence: `None`\n",
       "- type: `message`\n",
       "- usage: `{'cache_creation_input_tokens': 0, 'cache_read_input_tokens': 0, 'input_tokens': 533, 'output_tokens': 77}`\n",
       "\n",
       "</details>"
      ],
      "text/plain": [
       "Message(id='msg_01Nug2UML4TAZSAZ1Qbp6a7z', content=[TextBlock(citations=None, text='AI agents are software systems that handle complex, long-tail use cases by adapting to obstacles through non-deterministic interactions, moving beyond traditional interfaces to more natural ones like chat or voice. They represent a new paradigm of software that empowers users by delegating tasks through multiple prompts and models working together, ultimately extending human capabilities while remaining under human direction.', type='text')], model='claude-3-7-sonnet-20250219', role='assistant', stop_reason='end_turn', stop_sequence=None, type='message', usage=In: 533; Out: 77; Cache create: 0; Cache read: 0; Total: 610)"
      ]
     },
     "execution_count": 22,
     "metadata": {},
     "output_type": "execute_result"
    }
   ],
   "source": [
    "# insert_consensus('../what-is-an-ai-agent.html')"
   ]
  },
  {
   "cell_type": "code",
   "execution_count": 24,
   "metadata": {},
   "outputs": [],
   "source": [
    "#| export\n",
    "\n",
    "@call_parse\n",
    "def add_new_guest(youtube_link: str, # The youtube link of the guest\n",
    "                  guest_name: str, # The name of the guest (can contain markdown links [text](url))\n",
    "                  guest_position: str, # The position of the guest (can contain markdown links [text](url))\n",
    "                  html_file_path: str = 'what-is-an-ai-agent.html'):\n",
    "    card = generate_definition_card(youtube_link, guest_name, guest_position)\n",
    "    insert_card_into_html(card, html_file_path)\n",
    "    insert_consensus(html_file_path)\n",
    "\n"
   ]
  },
  {
   "cell_type": "code",
   "execution_count": null,
   "metadata": {},
   "outputs": [],
   "source": [
    "add_new_guest('https://youtu.be/-40h0O6olus?si=w_7XiJdC3T2P5aru', 'Arjun Chintapalli & Bhavani Kalisetty', 'rtrvr.ai', html_file_path='../what-is-an-ai-agent.html')"
   ]
  },
  {
   "cell_type": "code",
   "execution_count": null,
   "metadata": {},
   "outputs": [],
   "source": [
    "#| hide\n",
    "import nbdev; nbdev.nbdev_export()"
   ]
  }
 ],
 "metadata": {
  "kernelspec": {
   "display_name": ".venv",
   "language": "python",
   "name": "python3"
  },
  "language_info": {
   "codemirror_mode": {
    "name": "ipython",
    "version": 3
   },
   "file_extension": ".py",
   "mimetype": "text/x-python",
   "name": "python",
   "nbconvert_exporter": "python",
   "pygments_lexer": "ipython3",
   "version": "3.10.16"
  }
 },
 "nbformat": 4,
 "nbformat_minor": 2
}
